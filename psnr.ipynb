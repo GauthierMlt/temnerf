{
 "cells": [
  {
   "cell_type": "code",
   "execution_count": null,
   "metadata": {},
   "outputs": [],
   "source": [
    "import numpy as np\n",
    "import os\n",
    "import matplotlib.pyplot as plt\n",
    "\n",
    "def compute_psnr(volume1, volume2, max_pixel_value=1.0):\n",
    "    \"\"\"\n",
    "    Computes the PSNR (Peak Signal-to-Noise Ratio) between two volumes.\n",
    "    \n",
    "    Parameters:\n",
    "    - volume1: The first volume (numpy array).\n",
    "    - volume2: The second volume (numpy array).\n",
    "    - max_pixel_value: The maximum possible pixel value of the data.\n",
    "    \n",
    "    Returns:\n",
    "    - psnr: The PSNR value.\n",
    "    \"\"\"\n",
    "    mse = np.mean((volume1 - volume2) ** 2)\n",
    "    if mse == 0:\n",
    "        return float('inf')\n",
    "    psnr = 20 * np.log10(max_pixel_value / np.sqrt(mse))\n",
    "    return psnr"
   ]
  },
  {
   "cell_type": "code",
   "execution_count": null,
   "metadata": {},
   "outputs": [],
   "source": [
    "ref_file = '10_512.npy'\n",
    "ref = np.load(ref_file)"
   ]
  },
  {
   "cell_type": "code",
   "execution_count": null,
   "metadata": {},
   "outputs": [],
   "source": [
    "volumes = [f for f in os.listdir() if (\".npy\" in f) and f != ref_file]\n",
    "psnr_dict = {}\n",
    "\n",
    "for v in volumes:\n",
    "    v_name = v[:-4]\n",
    "    psnr_dict[v_name] = compute_psnr(ref, np.load(v))\n",
    "    print(f\"PSNR ({v_name}): {psnr_dict[v_name]} dB\")\n",
    "\n",
    "psnr_dict.pop(\"sirt_walnut\")"
   ]
  },
  {
   "cell_type": "code",
   "execution_count": null,
   "metadata": {},
   "outputs": [],
   "source": [
    "sorted_psnr = dict(sorted(psnr_dict.items(), key=lambda item: item[1]))\n",
    "\n",
    "values = list(sorted_psnr.values())\n",
    "\n",
    "\n",
    "plt.figure(figsize=(10, 5))\n",
    "plt.scatter(sorted_psnr.keys(), values, color='blue')\n",
    "plt.xlabel('Model (nb hidden layers__nb neurons per layer)')\n",
    "plt.ylabel('PSNR (dB)')\n",
    "plt.xticks(rotation=45, ha='right')\n",
    "\n",
    "for i, value in enumerate(values):\n",
    "    plt.text(i, value+0.1, f\"{value:.2f}\", ha='center', va='bottom', fontsize=11)\n",
    "\n",
    "plt.tight_layout()\n",
    "plt.savefig()"
   ]
  }
 ],
 "metadata": {
  "kernelspec": {
   "display_name": "test",
   "language": "python",
   "name": "python3"
  },
  "language_info": {
   "codemirror_mode": {
    "name": "ipython",
    "version": 3
   },
   "file_extension": ".py",
   "mimetype": "text/x-python",
   "name": "python",
   "nbconvert_exporter": "python",
   "pygments_lexer": "ipython3",
   "version": "3.11.9"
  }
 },
 "nbformat": 4,
 "nbformat_minor": 2
}
