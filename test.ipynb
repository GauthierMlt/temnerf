{
 "cells": [
  {
   "cell_type": "code",
   "execution_count": 1,
   "metadata": {},
   "outputs": [
    {
     "name": "stdout",
     "output_type": "stream",
     "text": [
      "Jupyter environment detected. Enabling Open3D WebVisualizer.\n",
      "[Open3D INFO] WebRTC GUI backend enabled.\n",
      "[Open3D INFO] WebRTCWindowSystem: HTTP handshake server disabled.\n"
     ]
    }
   ],
   "source": [
    "%load_ext autoreload\n",
    "%autoreload 2\n",
    "\n",
    "from data.projectionsdataset import ProjectionsDataset\n",
    "from data.emdataset import EMDataset\n",
    "import matplotlib.pyplot as plt \n",
    "from tifffile import imread\n",
    "from PIL import Image\n",
    "from tqdm import tqdm\n",
    "import open3d as o3d\n",
    "import numpy as np\n",
    "import torchvision\n",
    "import importlib\n",
    "import warnings\n",
    "import mrcfile\n",
    "import astra\n",
    "import torch\n",
    "import os\n",
    "import PIL"
   ]
  },
  {
   "cell_type": "code",
   "execution_count": 2,
   "metadata": {},
   "outputs": [],
   "source": [
    "data_path = \"data/Au_Ag\" \n",
    "projections_path = os.path.join(data_path, \"Serie_3_ali.tif\")\n",
    "angles_path = os.path.join(data_path, \"TiltAngle_ali.txt\")\n",
    "mrc_path = os.path.join(data_path, \"Serie_3.mrc\")"
   ]
  },
  {
   "cell_type": "code",
   "execution_count": 3,
   "metadata": {},
   "outputs": [],
   "source": [
    "def get_n_channels(mode):\n",
    "    return {\n",
    "        \"1\": 1,  \n",
    "        \"L\": 1,  \n",
    "        \"P\": 1,  \n",
    "        \"RGB\": 3,  \n",
    "        \"RGBA\": 4,  \n",
    "        \"CMYK\": 4,  \n",
    "        \"YCbCr\": 3,  \n",
    "        \"I\": 1,  \n",
    "        \"F\": 1,  \n",
    "    }.get(mode, 1)  \n",
    "    \n",
    "def read_tif(filepath) -> torch.Tensor: \n",
    "\n",
    "    with Image.open(filepath) as im:\n",
    "\n",
    "        if im.mode != \"L\":\n",
    "            print(f\"Image mode ({im.mode}) different than the expected 'L' (8-bit grayscale) this may lead to improper processing\")\n",
    "\n",
    "        n_channels = get_n_channels(im.mode)\n",
    "        tensor_shape = (im.n_frames, n_channels, im.height, im.width)\n",
    "        image_tensor = torch.zeros(tensor_shape, dtype=torch.uint8) \n",
    "\n",
    "        for i in range(im.n_frames):\n",
    "            im.seek(i)\n",
    "\n",
    "            np_array = np.array(im) \n",
    "        \n",
    "            if n_channels == 1:\n",
    "                np_array = np.expand_dims(np_array, axis=-1) \n",
    "            \n",
    "            image_tensor[i] = torch.from_numpy(np_array).permute(2, 0, 1) \n",
    "            \n",
    "        return image_tensor \n",
    "\n",
    "def read_angles_file(filepath: str) -> torch.Tensor:\n",
    "    with open(filepath, 'r') as file:\n",
    "        lines = file.readlines()\n",
    "    \n",
    "    return torch.from_numpy( np.array([float(line.strip()) for line in lines], dtype=np.float32) )\n",
    "\n",
    "\n",
    "def estimate_memory(n, size, channels=1, dtype=torch.uint8):\n",
    "\n",
    "    bytes_per_pixel = torch.tensor([], dtype=dtype).element_size()\n",
    "    \n",
    "    memory_per_image = size[0] * size[1] * channels * bytes_per_pixel\n",
    "    \n",
    "    total_memory_bytes = n * memory_per_image\n",
    "    \n",
    "    print( f\"Storing this object uses: {total_memory_bytes / 1024**2} MB of memory\" )\n",
    "\n",
    "def tensor_memory_usage(tensor: torch.Tensor) -> float:\n",
    "    num_elements = tensor.numel()\n",
    "    element_size = tensor.element_size()\n",
    "    total_size_in_bytes = num_elements * element_size\n",
    "    print( f\"Storing this tensor uses: {total_size_in_bytes / 1024**2} MB of memory\" )\n"
   ]
  },
  {
   "cell_type": "code",
   "execution_count": 4,
   "metadata": {},
   "outputs": [],
   "source": [
    "images_tensor = read_tif(projections_path)"
   ]
  },
  {
   "cell_type": "code",
   "execution_count": 5,
   "metadata": {},
   "outputs": [],
   "source": [
    "# plt.imshow(  images_tensor[50].permute(1, 2, 0), cmap=\"Greys_r\" )"
   ]
  },
  {
   "cell_type": "code",
   "execution_count": 6,
   "metadata": {},
   "outputs": [],
   "source": [
    "# plt.imshow(  images_tensor[50].permute(1, 2, 0), cmap=\"Greys_r\" )"
   ]
  },
  {
   "cell_type": "code",
   "execution_count": 7,
   "metadata": {},
   "outputs": [],
   "source": [
    "angles = read_angles_file(angles_path)"
   ]
  },
  {
   "cell_type": "code",
   "execution_count": 8,
   "metadata": {},
   "outputs": [],
   "source": [
    "def get_vram_info():\n",
    "    total_vram = torch.cuda.get_device_properties(0).total_memory\n",
    "    allocated_vram = torch.cuda.memory_allocated(0)\n",
    "    free_vram = total_vram - allocated_vram\n",
    "    return total_vram, allocated_vram, free_vram"
   ]
  },
  {
   "cell_type": "code",
   "execution_count": 9,
   "metadata": {},
   "outputs": [
    {
     "name": "stderr",
     "output_type": "stream",
     "text": [
      "/home/multari/temnerf/src/data/emdataset.py:138: UserWarning: To copy construct from a tensor, it is recommended to use sourceTensor.clone().detach() or sourceTensor.clone().detach().requires_grad_(True), rather than torch.tensor(sourceTensor).\n",
      "  torch.tensor(origins, dtype=torch.float32),\n",
      "/home/multari/temnerf/src/data/emdataset.py:139: UserWarning: To copy construct from a tensor, it is recommended to use sourceTensor.clone().detach() or sourceTensor.clone().detach().requires_grad_(True), rather than torch.tensor(sourceTensor).\n",
      "  torch.tensor(directions, dtype=torch.float32),\n"
     ]
    }
   ],
   "source": [
    "dataset = EMDataset(\"cpu\", projections_path, angles_path)"
   ]
  },
  {
   "cell_type": "code",
   "execution_count": 25,
   "metadata": {},
   "outputs": [],
   "source": [
    "\n",
    "# plt.imshow(  dataset.images_tensor[50].permute(1, 2, 0), cmap=\"Greys_r\" )"
   ]
  },
  {
   "cell_type": "code",
   "execution_count": 11,
   "metadata": {},
   "outputs": [],
   "source": [
    "def plot_rays(origins, directions, scale = 0.1, show_dir=False):\n",
    "    point_cloud = o3d.geometry.PointCloud()\n",
    "    point_cloud.points = o3d.utility.Vector3dVector(origins)\n",
    "    \n",
    "    geometries = [point_cloud]\n",
    "    if show_dir:\n",
    "        lines = []\n",
    "        line_points = []\n",
    "\n",
    "        for origin, direction in zip(origins, directions):\n",
    "            end_point = origin + scale * direction\n",
    "            line_points.append(origin)\n",
    "            line_points.append(end_point)\n",
    "            lines.append([len(line_points) - 2, len(line_points) - 1])\n",
    "\n",
    "        line_points = np.array(line_points)\n",
    "        lines = np.array(lines)\n",
    "\n",
    "        line_set = o3d.geometry.LineSet()\n",
    "        line_set.points = o3d.utility.Vector3dVector(line_points)\n",
    "        line_set.lines = o3d.utility.Vector2iVector(lines)\n",
    "\n",
    "        geometries.append(line_set)\n",
    "\n",
    "    o3d.visualization.draw_geometries(geometries)"
   ]
  },
  {
   "cell_type": "code",
   "execution_count": 12,
   "metadata": {},
   "outputs": [],
   "source": [
    "def read_tif(file_path):\n",
    "    return imread(file_path)\n",
    "\n",
    "def read_angles_file(file_path):\n",
    "    return np.loadtxt(file_path)\n",
    "\n",
    "\n",
    "data_path = \"data/Au_Ag\"\n",
    "projections_path = os.path.join(data_path, \"Serie_3_ali.tif\")\n",
    "angles_path = os.path.join(data_path, \"TiltAngle_ali.txt\")\n",
    "\n",
    "\n",
    "images_tensor = read_tif(projections_path)\n",
    "angles_tensor = np.deg2rad(read_angles_file(angles_path))\n",
    "\n",
    "\n",
    "angles_tensor = np.array(angles_tensor).flatten()\n",
    "\n",
    "\n",
    "num_projections = images_tensor.shape[0]\n",
    "\n",
    "detector_size_y = images_tensor.shape[1]\n",
    "detector_size_x = images_tensor.shape[2]\n",
    "\n",
    "vol_size = images_tensor.shape[1]\n",
    "\n",
    "\n",
    "images_tensor = np.transpose(images_tensor, (1, 0, 2))\n",
    "\n",
    "\n",
    "vol_geom = astra.create_vol_geom(vol_size, vol_size, vol_size)\n",
    "proj_geom = astra.create_proj_geom('parallel3d', 1.0, 1.0, detector_size_y, detector_size_x, angles_tensor)\n",
    "\n",
    "\n",
    "sinogram_id = astra.data3d.create('-sino', proj_geom, images_tensor)\n",
    "projector_id = astra.create_projector('cuda3d', proj_geom, vol_geom)\n",
    "\n",
    "vectors = astra.geom_2vec(proj_geom)[\"Vectors\"]"
   ]
  },
  {
   "cell_type": "code",
   "execution_count": 13,
   "metadata": {},
   "outputs": [],
   "source": [
    "def create_geometry_vectors(angles, detector_spacing_X=1.0, detector_spacing_Y=1.0):\n",
    "\n",
    "    vectors = np.zeros((len(angles), 12))\n",
    "    for i in range(len(angles)):\n",
    "\n",
    "        # ray direction\n",
    "        vectors[i, 0] = np.sin(angles[i])\n",
    "        vectors[i, 1] = -np.cos(angles[i])\n",
    "        vectors[i, 2] = 0\n",
    "\n",
    "        # center of detector\n",
    "        vectors[i, 3] = 0\n",
    "        vectors[i, 4] = 0\n",
    "        vectors[i, 5] = 0\n",
    "\n",
    "        # vector from detector pixel (0,0) to (0,1)\n",
    "        vectors[i, 6] = np.cos(angles[i]) * detector_spacing_X\n",
    "        vectors[i, 7] = np.sin(angles[i]) * detector_spacing_X\n",
    "        vectors[i, 8] = 0\n",
    "\n",
    "        # vector from detector pixel (0,0) to (1,0)\n",
    "        vectors[i, 9] = 0\n",
    "        vectors[i, 10] = 0\n",
    "        vectors[i, 11] = detector_spacing_Y\n",
    "\n",
    "    return vectors"
   ]
  },
  {
   "cell_type": "code",
   "execution_count": 14,
   "metadata": {},
   "outputs": [],
   "source": [
    "vectors = create_geometry_vectors(angles_tensor)"
   ]
  },
  {
   "cell_type": "code",
   "execution_count": 15,
   "metadata": {},
   "outputs": [],
   "source": [
    "# vectors = astra.geom_2vec(proj_geom)[\"Vectors\"]\n"
   ]
  },
  {
   "cell_type": "code",
   "execution_count": 16,
   "metadata": {},
   "outputs": [],
   "source": [
    "def compute_ray(vec, u, v, factor=10):\n",
    "\n",
    "    ray_direction = vec[:3]\n",
    "    det_center    = vec[3:6]\n",
    "    width_vec     = vec[6:9]\n",
    "    height_vec    = vec[9:12]\n",
    "\n",
    "    pixel_location = det_center + u * width_vec + v * height_vec # pixel location on the projection\n",
    "    ray_origin = pixel_location + ray_direction * factor         # the origin of the ray is the pixel location translated by the direction times a factor away\n",
    "    return ray_origin, -ray_direction\n",
    "\n",
    "size = 1024 # size of the projection\n",
    "n_proj = 75  # number of projections\n",
    "\n",
    "# origins    = np.zeros((n_proj, size, size, 3))\n",
    "# directions = np.zeros((n_proj, size, size, 3))\n",
    "\n",
    "# for p in range(n_proj):\n",
    "#     for i in range(-size//2,size//2):\n",
    "#         for j in range(-size//2, size//2):\n",
    "#             origins[p, i, j], directions[p, i, j] = compute_ray(vectors[p], i, j)\n",
    "\n",
    "\n",
    "\n",
    "# origins_reshaped = origins.reshape(-1, 3)\n",
    "# directions_reshaped = directions.reshape(-1, 3)\n",
    "\n",
    "# plot_rays(origins_reshaped, directions_reshaped, scale=1, show_dir=False)"
   ]
  },
  {
   "cell_type": "code",
   "execution_count": 17,
   "metadata": {},
   "outputs": [],
   "source": [
    "def compute_rays(vecs, size, factor=(size * np.sqrt(3)) / 2):\n",
    "    u, v = np.meshgrid(np.arange(-size//2, size//2), np.arange(-size//2, size//2), indexing='ij')\n",
    "    u = u.reshape(-1)\n",
    "    v = v.reshape(-1)\n",
    "    \n",
    "    origins = np.zeros((vecs.shape[0], size*size, 3))\n",
    "    directions = np.zeros((vecs.shape[0], size*size, 3))\n",
    "    \n",
    "    for p in range(vecs.shape[0]):\n",
    "        ray_direction = vecs[p, :3]\n",
    "        det_center = vecs[p, 3:6]\n",
    "        width_vec = vecs[p, 6:9]\n",
    "        height_vec = vecs[p, 9:12]\n",
    "        \n",
    "        pixel_locations = det_center + u[:, None] * width_vec + v[:, None] * height_vec\n",
    "        origins[p] = pixel_locations + ray_direction * factor\n",
    "        directions[p] = -ray_direction\n",
    "    \n",
    "    return origins.reshape(-1, 3), directions.reshape(-1, 3)\n",
    "\n",
    "size = 1024  # size of the projection\n",
    "n_proj = 75  # number of projections\n",
    "\n",
    "# origins_reshaped, directions_reshaped = compute_rays(vectors, size)\n",
    "\n"
   ]
  },
  {
   "cell_type": "code",
   "execution_count": 18,
   "metadata": {},
   "outputs": [],
   "source": [
    "@torch.no_grad\n",
    "def compute_rays_torch(vecs, size, factor=None):\n",
    "    if factor is None:\n",
    "        factor = (size * np.sqrt(3)) / 2\n",
    "        \n",
    "    u, v = torch.meshgrid(torch.arange(-size//2, size//2), torch.arange(-size//2, size//2), indexing='ij')\n",
    "    u = u.reshape(-1)\n",
    "    v = v.reshape(-1)\n",
    "    \n",
    "    vecs = torch.tensor(vecs, dtype=torch.float64)\n",
    "    n_projections = vecs.shape[0]\n",
    "\n",
    "    origins = torch.zeros((n_projections, size * size, 3), dtype=torch.float64)\n",
    "    directions = torch.zeros((n_projections, size * size, 3), dtype=torch.float64)\n",
    "    \n",
    "    for p in range(n_projections):\n",
    "        ray_direction = vecs[p, :3]\n",
    "        det_center = vecs[p, 3:6]\n",
    "        width_vec = vecs[p, 6:9]\n",
    "        height_vec = vecs[p, 9:12]\n",
    "        \n",
    "        pixel_locations = det_center + u[:, None] * width_vec + v[:, None] * height_vec\n",
    "        origins[p] = pixel_locations + ray_direction * factor\n",
    "        directions[p] = -ray_direction\n",
    "    \n",
    "    return origins.reshape(-1, 3), directions.reshape(-1, 3)\n",
    "\n",
    "origins_reshaped, directions_reshaped = compute_rays_torch(vectors, size)"
   ]
  },
  {
   "cell_type": "code",
   "execution_count": 19,
   "metadata": {},
   "outputs": [],
   "source": [
    "# plot_rays(np.asarray(origins_reshaped), np.asarray(directions_reshaped), scale=1, show_dir=False)"
   ]
  },
  {
   "cell_type": "code",
   "execution_count": 20,
   "metadata": {},
   "outputs": [
    {
     "data": {
      "text/plain": [
       "tensor([-1023.9610,    -8.9360,  -512.0000], dtype=torch.float64)"
      ]
     },
     "execution_count": 20,
     "metadata": {},
     "output_type": "execute_result"
    }
   ],
   "source": [
    "\n",
    "\n",
    "origins_reshaped[0]"
   ]
  },
  {
   "cell_type": "code",
   "execution_count": 22,
   "metadata": {},
   "outputs": [],
   "source": [
    "pix_vals = dataset.images_tensor.permute(0, 2, 3, 1).reshape(-1, dataset.images_tensor.shape[1])"
   ]
  },
  {
   "cell_type": "code",
   "execution_count": 34,
   "metadata": {},
   "outputs": [
    {
     "data": {
      "text/plain": [
       "1048576"
      ]
     },
     "execution_count": 34,
     "metadata": {},
     "output_type": "execute_result"
    }
   ],
   "source": [
    "dataset.data[:1024*1024, 6]"
   ]
  },
  {
   "cell_type": "code",
   "execution_count": 46,
   "metadata": {},
   "outputs": [],
   "source": [
    "tmp = torch.tensor(images_tensor, dtype=torch.float64)/ 255.0\n",
    "tmp = tmp.permute(1, 0, 2)"
   ]
  },
  {
   "cell_type": "code",
   "execution_count": 47,
   "metadata": {},
   "outputs": [
    {
     "data": {
      "text/plain": [
       "torch.Size([75, 1024, 1024])"
      ]
     },
     "execution_count": 47,
     "metadata": {},
     "output_type": "execute_result"
    }
   ],
   "source": [
    "tmp.shape"
   ]
  },
  {
   "cell_type": "code",
   "execution_count": 57,
   "metadata": {},
   "outputs": [
    {
     "data": {
      "text/plain": [
       "torch.Size([1048576])"
      ]
     },
     "execution_count": 57,
     "metadata": {},
     "output_type": "execute_result"
    }
   ],
   "source": [
    "tmp[0]"
   ]
  },
  {
   "cell_type": "code",
   "execution_count": 80,
   "metadata": {},
   "outputs": [
    {
     "data": {
      "image/png": "[encoded data removed]",
      "text/plain": [
       "<Figure size 640x480 with 1 Axes>"
      ]
     },
     "metadata": {},
     "output_type": "display_data"
    },
    {
     "data": {
      "image/png": "[encoded data removed]",
      "text/plain": [
       "<Figure size 640x480 with 1 Axes>"
      ]
     },
     "metadata": {},
     "output_type": "display_data"
    }
   ],
   "source": [
    "idx = 74\n",
    "im_s = 1024*1024\n",
    "plt.imshow(dataset.data[idx*im_s:idx*im_s+im_s, 6].reshape(1024, 1024), cmap='Greys_r')\n",
    "plt.show()\n",
    "plt.imshow(tmp[idx].reshape(1024, 1024), cmap='Greys_r')\n",
    "plt.show()"
   ]
  },
  {
   "cell_type": "code",
   "execution_count": 60,
   "metadata": {},
   "outputs": [
    {
     "name": "stdout",
     "output_type": "stream",
     "text": [
      "307370\n"
     ]
    }
   ],
   "source": [
    "diff_indices = (dataset.data[:1024*1024, 6] != tmp[0].flatten()).nonzero(as_tuple=True)[0]\n",
    "\n",
    "print(len(diff_indices))  # Output: tensor([1, 3])"
   ]
  }
 ],
 "metadata": {
  "kernelspec": {
   "display_name": "test",
   "language": "python",
   "name": "python3"
  },
  "language_info": {
   "codemirror_mode": {
    "name": "ipython",
    "version": 3
   },
   "file_extension": ".py",
   "mimetype": "text/x-python",
   "name": "python",
   "nbconvert_exporter": "python",
   "pygments_lexer": "ipython3",
   "version": "3.11.9"
  }
 },
 "nbformat": 4,
 "nbformat_minor": 2
}
