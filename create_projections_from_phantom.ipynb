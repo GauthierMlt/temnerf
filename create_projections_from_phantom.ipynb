{
 "cells": [
  {
   "cell_type": "code",
   "execution_count": 1,
   "metadata": {},
   "outputs": [],
   "source": [
    "import numpy as np\n",
    "import imageio\n",
    "import astra\n",
    "\n",
    "vol_dim = 256\n",
    "\n",
    "try:\n",
    "    # volume = np.load(f\"shepp_logan_{vol_dim}.npy\")\n",
    "    volume = np.load(f\"SIRT/ref_au_ag.npy\")\n",
    "except:\n",
    "    # from phantominator import shepp_logan\n",
    "    # volume = shepp_logan((vol_dim, vol_dim, vol_dim))\n",
    "    # np.save(f\"shepp_logan_{vol_dim}.npy\", volume)\n",
    "    pass\n",
    "\n",
    "range_ = 180\n",
    "rest = -range_/2 \n",
    "step = 1\n",
    "angles = np.arange(rest, (range_+rest if rest < 0 else range_-rest)+step, step) \n",
    "num_projections = len(angles)\n",
    "\n",
    "proj_geom = astra.create_proj_geom('parallel3d', 1.0, 1.0, vol_dim, vol_dim, np.radians(angles))\n",
    "vol_geom  = astra.create_vol_geom(vol_dim, vol_dim, vol_dim)\n",
    "\n",
    "projector_id = astra.create_projector('cuda3d', proj_geom, vol_geom)\n",
    "sinogram_id, sinogram = astra.create_sino3d_gpu(volume, proj_geom, vol_geom)\n",
    "\n",
    "astra.data3d.delete(sinogram_id)\n",
    "astra.projector.delete(projector_id)\n",
    "\n",
    "sinogram = np.swapaxes(sinogram, 0, 1) # [H, N, W] -> [N, H, W]\n",
    "imageio.mimwrite(f'data/benchmark/au_ag_sirt_{range_}.tiff', sinogram)\n",
    "# imageio.mimwrite(f'data/shepp_projections/shepp_projection_{vol_dim}_{range_}.tiff', sinogram)\n",
    "sinogram_8bit = (255 * (sinogram - np.min(sinogram)) / (np.max(sinogram) - np.min(sinogram))).astype(np.uint8)\n",
    "imageio.mimwrite(f'data/benchmark/au_ag_sirt_{range_}_8bit.tiff', sinogram_8bit)\n",
    "# imageio.mimwrite(f'data/shepp_projections/shepp_projections_{vol_dim}_{range_}_8bit.tiff', sinogram_8bit)\n",
    "\n",
    "with open(f'data/benchmark/au_ag_sirt_{range_}.txt', 'w') as angle_file:\n",
    "    for angle in angles:\n",
    "        angle_file.write(f\"{angle}\\n\")"
   ]
  },
  {
   "cell_type": "code",
   "execution_count": 33,
   "metadata": {},
   "outputs": [
    {
     "name": "stdout",
     "output_type": "stream",
     "text": [
      "(512, 10, 512)\n"
     ]
    }
   ],
   "source": [
    "\n",
    "# # Define the parameters\n",
    "# vol_dim = 256  # Example volume dimensions\n",
    "# angles = np.arange(0, 5, 0.5)  # Angle range from 0 to 5 degrees with 0.5 degree steps\n",
    "# num_projections = len(angles)\n",
    "# det_row_count = vol_dim  \n",
    "# det_col_count = vol_dim \n",
    "\n",
    "# det_spacing_x = 1.0\n",
    "# det_spacing_y = 1.0\n",
    "\n",
    "# source_origin_dist = 1000  # Distance from source to origin\n",
    "# origin_detector_dist = 500  # Distance from origin to detector\n",
    "\n",
    "# # Corrected call to create_proj_geom\n",
    "# proj_geom = astra.create_proj_geom('cone', det_spacing_x, det_spacing_y, det_row_count, det_col_count, np.radians(angles), \n",
    "#                                    source_origin_dist, origin_detector_dist)\n",
    "\n",
    "# # Create volume geometry\n",
    "# vol_geom = astra.create_vol_geom(vol_dim, vol_dim, vol_dim)\n",
    "\n",
    "# # Create the projector\n",
    "# projector_id = astra.create_projector('cuda3d', proj_geom, vol_geom)\n",
    "\n",
    "# # Example volume data\n",
    "# volume = np.ones((vol_dim, vol_dim, vol_dim), dtype=np.float32)\n",
    "\n",
    "# # Create the sinogram\n",
    "# sinogram_id, sinogram = astra.create_sino3d_gpu(volume, proj_geom, vol_geom)"
   ]
  },
  {
   "cell_type": "code",
   "execution_count": 34,
   "metadata": {},
   "outputs": [
    {
     "name": "stdout",
     "output_type": "stream",
     "text": [
      "(10, 512, 512)\n"
     ]
    }
   ],
   "source": [
    "sinogram = np.swapaxes(sinogram, 0, 1) # [H, N, W] -> [N, H, W]\n",
    "print(sinogram.shape)"
   ]
  }
 ],
 "metadata": {
  "kernelspec": {
   "display_name": "sirt",
   "language": "python",
   "name": "python3"
  },
  "language_info": {
   "codemirror_mode": {
    "name": "ipython",
    "version": 3
   },
   "file_extension": ".py",
   "mimetype": "text/x-python",
   "name": "python",
   "nbconvert_exporter": "python",
   "pygments_lexer": "ipython3",
   "version": "3.11.9"
  }
 },
 "nbformat": 4,
 "nbformat_minor": 2
}
