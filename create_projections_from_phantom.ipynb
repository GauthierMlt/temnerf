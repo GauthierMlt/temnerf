{
 "cells": [
  {
   "cell_type": "code",
   "execution_count": 120,
   "metadata": {},
   "outputs": [],
   "source": [
    "import numpy as np\n",
    "import imageio\n",
    "import astra\n",
    "import sys\n",
    "import matplotlib.pyplot as plt"
   ]
  },
  {
   "cell_type": "code",
   "execution_count": 121,
   "metadata": {},
   "outputs": [],
   "source": [
    "proj_dim = 256\n",
    "# name = \"shepp_logan\"\n",
    "# name = \"au_ag_sirt\"\n",
    "name = \"tube\"\n",
    "\n",
    "range_ = 180\n",
    "step = 1"
   ]
  },
  {
   "cell_type": "code",
   "execution_count": 122,
   "metadata": {},
   "outputs": [],
   "source": [
    "def get_tube_volume(volume_size=256):\n",
    "    tube_diameter = volume_size//5\n",
    "    margin = volume_size//5\n",
    "\n",
    "    center_x = volume_size // 2\n",
    "    center_y = volume_size // 2\n",
    "\n",
    "    x = np.linspace(0, volume_size - 1, volume_size)\n",
    "    y = np.linspace(0, volume_size - 1, volume_size)\n",
    "    z = np.linspace(0, volume_size - 1, volume_size)\n",
    "\n",
    "    X, Y, Z = np.meshgrid(x, y, z, indexing='xy')\n",
    "\n",
    "    distance_from_center = np.sqrt((X - center_x)**2 + (Y - center_y)**2)\n",
    "\n",
    "    inside_tube_radius = distance_from_center <= (tube_diameter / 2)\n",
    "\n",
    "    inside_tube_length = (Z >= margin) & (Z <= volume_size-margin)\n",
    "\n",
    "    return inside_tube_radius & inside_tube_length"
   ]
  },
  {
   "cell_type": "code",
   "execution_count": 123,
   "metadata": {},
   "outputs": [],
   "source": [
    "def get_padded_volume(volume, pad_size):\n",
    "\n",
    "    return np.pad(volume, \n",
    "                  tuple((pad_size, pad_size) for _ in range(3)), \n",
    "                  mode='constant', \n",
    "                  constant_values=0)"
   ]
  },
  {
   "cell_type": "code",
   "execution_count": 124,
   "metadata": {},
   "outputs": [],
   "source": [
    "out_folder = \"data/benchmark\"\n",
    "try:\n",
    "    vol_path = f\"{out_folder}/{name}.npy\"\n",
    "    volume = np.load(vol_path)\n",
    "\n",
    "except:\n",
    "    if name == \"shepp_logan\":\n",
    "        from phantominator import shepp_logan\n",
    "        \n",
    "        pad_size = 62\n",
    "        vol_dim = proj_dim-pad_size\n",
    "        volume = shepp_logan((vol_dim, vol_dim, vol_dim))\n",
    "\n",
    "        if vol_dim != proj_dim:\n",
    "            padded_volume = get_padded_volume(volume, pad_size)\n",
    "            \n",
    "        np.save(f\"{out_folder}/{name}_{proj_dim}.npy\", padded_volume)\n",
    "    \n",
    "    elif name == \"tube\":\n",
    "        volume = get_tube_volume(proj_dim)\n",
    "        np.save(f\"{out_folder}/{name}_{proj_dim}.npy\", volume)\n",
    "    else:\n",
    "        sys.exit()"
   ]
  },
  {
   "cell_type": "code",
   "execution_count": 128,
   "metadata": {},
   "outputs": [
    {
     "data": {
      "text/plain": [
       "<matplotlib.image.AxesImage at 0x7fa5c019ab10>"
      ]
     },
     "execution_count": 128,
     "metadata": {},
     "output_type": "execute_result"
    },
    {
     "data": {
      "image/png": "[encoded data removed]",
      "text/plain": [
       "<Figure size 640x480 with 1 Axes>"
      ]
     },
     "metadata": {},
     "output_type": "display_data"
    }
   ],
   "source": [
    "plt.imshow(volume[:, proj_dim//2, :], cmap=\"grey\")"
   ]
  },
  {
   "cell_type": "code",
   "execution_count": 126,
   "metadata": {},
   "outputs": [],
   "source": [
    "vol_dim  = volume.shape[0]\n",
    "\n",
    "rest = -range_/2 \n",
    "angles = np.arange(rest, (range_+rest if rest < 0 else range_-rest)+step, step) \n",
    "num_projections = len(angles)\n",
    "\n",
    "proj_geom = astra.create_proj_geom('parallel3d', 1.0, 1.0, proj_dim, proj_dim, np.radians(angles))\n",
    "vol_geom  = astra.create_vol_geom(volume.shape[0], volume.shape[1], volume.shape[2])\n",
    "\n",
    "projector_id = astra.create_projector('cuda3d', proj_geom, vol_geom)\n",
    "sinogram_id, sinogram = astra.create_sino3d_gpu(volume, proj_geom, vol_geom)\n",
    "\n",
    "astra.data3d.delete(sinogram_id)\n",
    "astra.projector.delete(projector_id)\n",
    "\n",
    "sinogram = np.swapaxes(sinogram, 0, 1) # [H, N, W] -> [N, H, W]\n",
    "imageio.mimwrite(f'{out_folder}/{name}_{range_}.tiff', sinogram)\n",
    "\n",
    "sinogram_8bit = (255 * (sinogram - np.min(sinogram)) / (np.max(sinogram) - np.min(sinogram))).astype(np.uint8)\n",
    "imageio.mimwrite(f'{out_folder}/{name}_{range_}_8bit.tiff', sinogram_8bit)\n",
    "\n",
    "with open(f'{out_folder}/{name}_{range_}.txt', 'w') as angle_file:\n",
    "    for angle in angles:\n",
    "        angle_file.write(f\"{angle}\\n\")"
   ]
  },
  {
   "cell_type": "code",
   "execution_count": 127,
   "metadata": {},
   "outputs": [],
   "source": [
    "# # Define the parameters\n",
    "# vol_dim = 256  # Example volume dimensions\n",
    "# angles = np.arange(0, 5, 0.5)  # Angle range from 0 to 5 degrees with 0.5 degree steps\n",
    "# num_projections = len(angles)\n",
    "# det_row_count = vol_dim  \n",
    "# det_col_count = vol_dim \n",
    "\n",
    "# det_spacing_x = 1.0\n",
    "# det_spacing_y = 1.0\n",
    "\n",
    "# source_origin_dist = 1000  # Distance from source to origin\n",
    "# origin_detector_dist = 500  # Distance from origin to detector\n",
    "\n",
    "# # Corrected call to create_proj_geom\n",
    "# proj_geom = astra.create_proj_geom('cone', det_spacing_x, det_spacing_y, det_row_count, det_col_count, np.radians(angles), \n",
    "#                                    source_origin_dist, origin_detector_dist)\n",
    "\n",
    "# # Create volume geometry\n",
    "# vol_geom = astra.create_vol_geom(vol_dim, vol_dim, vol_dim)\n",
    "\n",
    "# # Create the projector\n",
    "# projector_id = astra.create_projector('cuda3d', proj_geom, vol_geom)\n",
    "\n",
    "# # Example volume data\n",
    "# volume = np.ones((vol_dim, vol_dim, vol_dim), dtype=np.float32)\n",
    "\n",
    "# # Create the sinogram\n",
    "# sinogram_id, sinogram = astra.create_sino3d_gpu(volume, proj_geom, vol_geom)"
   ]
  }
 ],
 "metadata": {
  "kernelspec": {
   "display_name": "sirt",
   "language": "python",
   "name": "python3"
  },
  "language_info": {
   "codemirror_mode": {
    "name": "ipython",
    "version": 3
   },
   "file_extension": ".py",
   "mimetype": "text/x-python",
   "name": "python",
   "nbconvert_exporter": "python",
   "pygments_lexer": "ipython3",
   "version": "3.11.9"
  }
 },
 "nbformat": 4,
 "nbformat_minor": 2
}
