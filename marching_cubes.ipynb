{
 "cells": [
  {
   "cell_type": "code",
   "execution_count": null,
   "metadata": {},
   "outputs": [],
   "source": [
    "import numpy as np\n",
    "import open3d as o3d\n",
    "from skimage import measure\n",
    "from scipy.ndimage import binary_opening, binary_closing\n",
    "import copy\n",
    "import matplotlib.pyplot as plt\n",
    "\n",
    "# volume = np.load('SIRT/ref_au_ag.npy')\n",
    "volume_ref = np.load('volumes_benchmark/ref_au_ag.npy')\n",
    "# volume = np.load('volumes_benchmark/1e-3.npy')\n",
    "# volume = np.load('volumes_benchmark/nn_512.npy')\n",
    "volume_sirt = np.load('volumes_benchmark/au_ag_sirt_reconstruct_tv.npy')\n",
    "# volume = np.load('volumes_benchmark/hl_8.npy')\n",
    "volume = np.load(\"au_ag_180/n_hidden_layers/12/volumes/12_128.npy\")\n",
    "\n",
    "# def rescale(volume):\n",
    "#     volume[volume < 0] = 0\n",
    "#     volume = (volume - volume.min()) / (volume.max() - volume.min()) * 255\n",
    "#     volume = volume.astype(np.uint8)\n",
    "#     return volume\n",
    "\n",
    "# volume_nerf = rescale(volume_nerf)\n",
    "# volume_sirt = rescale(volume_sirt)\n",
    "plt.imshow((volume_ref[128, :, :] - volume[128, :, :])**2)\n",
    "\n",
    "print(volume_ref.max(), volume.max(), volume_sirt.max())"
   ]
  },
  {
   "cell_type": "code",
   "execution_count": null,
   "metadata": {},
   "outputs": [],
   "source": [
    "# # volume[volume < 100] = 0\n",
    "# v = volume_sirt.flatten()\n",
    "# v2 = volume_nerf.flatten()\n",
    "\n",
    "# plt.hist(v[np.where(v>40)], bins=215)\n",
    "# plt.figure()\n",
    "# plt.hist(v2[np.where(v2>40)], bins=215)\n",
    "\n",
    "# # v[v>40].shape"
   ]
  },
  {
   "cell_type": "code",
   "execution_count": null,
   "metadata": {},
   "outputs": [],
   "source": [
    "verts, faces, normals, values = measure.marching_cubes(volume, level=3., gradient_direction=\"ascent\")\n",
    "\n",
    "mesh = o3d.geometry.TriangleMesh()\n",
    "mesh.vertices = o3d.utility.Vector3dVector(verts)\n",
    "mesh.triangles = o3d.utility.Vector3iVector(faces)\n",
    "mesh.vertex_normals = o3d.utility.Vector3dVector(normals)\n",
    "\n",
    "mesh = mesh.filter_smooth_laplacian(number_of_iterations=1)\n",
    "\n",
    "\n",
    "# mesh.paint_uniform_color([0.1, 0.7, 0.1])\n",
    "\n",
    "mesh.compute_vertex_normals()\n",
    "mesh.compute_triangle_normals()\n",
    "# Visualize the mesh\n",
    "o3d.visualization.draw_geometries([mesh])\n",
    "\n",
    "# o3d.io.write_triangle_mesh('output_mesh.ply', mesh)\n",
    "\n",
    "# cube = o3d.geometry.TriangleMesh.create_box(width=128.0, height=128.0, depth=128.0)\n",
    "# cube.translate((0.5, 0.5, 0.5))  # Optional: Move the cube to the desired position\n",
    "# cube.paint_uniform_color([1, 0, 0])  # Optional: Color the cube red\n",
    "# o3d.visualization.draw_geometries([mesh, cube])"
   ]
  },
  {
   "cell_type": "code",
   "execution_count": null,
   "metadata": {},
   "outputs": [],
   "source": [
    "# with o3d.utility.VerbosityContextManager(\n",
    "#         o3d.utility.VerbosityLevel.Debug) as cm:\n",
    "#     triangle_clusters, cluster_n_triangles, cluster_area = (\n",
    "#         mesh.cluster_connected_triangles())\n",
    "# triangle_clusters = np.asarray(triangle_clusters)\n",
    "# cluster_n_triangles = np.asarray(cluster_n_triangles)\n",
    "# cluster_area = np.asarray(cluster_area)\n",
    "\n",
    "# mesh_0 = copy.deepcopy(mesh)\n",
    "# triangles_to_remove = cluster_n_triangles[triangle_clusters] < 100\n",
    "# mesh_0.remove_triangles_by_mask(triangles_to_remove)\n",
    "# o3d.visualization.draw_geometries([mesh_0])"
   ]
  }
 ],
 "metadata": {
  "kernelspec": {
   "display_name": "test",
   "language": "python",
   "name": "python3"
  },
  "language_info": {
   "codemirror_mode": {
    "name": "ipython",
    "version": 3
   },
   "file_extension": ".py",
   "mimetype": "text/x-python",
   "name": "python",
   "nbconvert_exporter": "python",
   "pygments_lexer": "ipython3",
   "version": "3.11.9"
  }
 },
 "nbformat": 4,
 "nbformat_minor": 2
}
