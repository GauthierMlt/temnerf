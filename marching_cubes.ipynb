{
 "cells": [
  {
   "cell_type": "code",
   "execution_count": 3,
   "metadata": {},
   "outputs": [
    {
     "ename": "FileNotFoundError",
     "evalue": "[Errno 2] No such file or directory: 'volumes_benchmark/hl_8.npy'",
     "output_type": "error",
     "traceback": [
      "\u001b[0;31m---------------------------------------------------------------------------\u001b[0m",
      "\u001b[0;31mFileNotFoundError\u001b[0m                         Traceback (most recent call last)",
      "Cell \u001b[0;32mIn[3], line 13\u001b[0m\n\u001b[1;32m      9\u001b[0m volume_ref \u001b[38;5;241m=\u001b[39m np\u001b[38;5;241m.\u001b[39mload(\u001b[38;5;124m'\u001b[39m\u001b[38;5;124mvolumes_benchmark_0/ref_au_ag.npy\u001b[39m\u001b[38;5;124m'\u001b[39m)\n\u001b[1;32m     10\u001b[0m \u001b[38;5;66;03m# volume = np.load('volumes_benchmark/1e-3.npy')\u001b[39;00m\n\u001b[1;32m     11\u001b[0m \u001b[38;5;66;03m# volume = np.load('volumes_benchmark/nn_512.npy')\u001b[39;00m\n\u001b[1;32m     12\u001b[0m \u001b[38;5;66;03m# volume_sirt = np.load('volumes_benchmark/au_ag_sirt_reconstruct_tv.npy')\u001b[39;00m\n\u001b[0;32m---> 13\u001b[0m volume \u001b[38;5;241m=\u001b[39m \u001b[43mnp\u001b[49m\u001b[38;5;241;43m.\u001b[39;49m\u001b[43mload\u001b[49m\u001b[43m(\u001b[49m\u001b[38;5;124;43m'\u001b[39;49m\u001b[38;5;124;43mvolumes_benchmark/hl_8.npy\u001b[39;49m\u001b[38;5;124;43m'\u001b[39;49m\u001b[43m)\u001b[49m\n\u001b[1;32m     14\u001b[0m \u001b[38;5;66;03m# volume = np.load(\"au_ag_180/n_hidden_layers/12/volumes/12_128.npy\")\u001b[39;00m\n\u001b[1;32m     15\u001b[0m \u001b[38;5;66;03m# volume = np.load(\"outputs/2024-07-17/11-00-59/volumes/4_128.npy\")\u001b[39;00m\n\u001b[1;32m     16\u001b[0m \u001b[38;5;66;03m# def rescale(volume):\u001b[39;00m\n\u001b[0;32m   (...)\u001b[0m\n\u001b[1;32m     23\u001b[0m \u001b[38;5;66;03m# volume_sirt = rescale(volume_sirt)\u001b[39;00m\n\u001b[1;32m     24\u001b[0m \u001b[38;5;66;03m# plt.imshow((volume_ref[128, :, :] - volume[128, :, :])**2)\u001b[39;00m\n",
      "File \u001b[0;32m~/miniconda3/envs/test/lib/python3.11/site-packages/numpy/lib/npyio.py:427\u001b[0m, in \u001b[0;36mload\u001b[0;34m(file, mmap_mode, allow_pickle, fix_imports, encoding, max_header_size)\u001b[0m\n\u001b[1;32m    425\u001b[0m     own_fid \u001b[38;5;241m=\u001b[39m \u001b[38;5;28;01mFalse\u001b[39;00m\n\u001b[1;32m    426\u001b[0m \u001b[38;5;28;01melse\u001b[39;00m:\n\u001b[0;32m--> 427\u001b[0m     fid \u001b[38;5;241m=\u001b[39m stack\u001b[38;5;241m.\u001b[39menter_context(\u001b[38;5;28;43mopen\u001b[39;49m\u001b[43m(\u001b[49m\u001b[43mos_fspath\u001b[49m\u001b[43m(\u001b[49m\u001b[43mfile\u001b[49m\u001b[43m)\u001b[49m\u001b[43m,\u001b[49m\u001b[43m \u001b[49m\u001b[38;5;124;43m\"\u001b[39;49m\u001b[38;5;124;43mrb\u001b[39;49m\u001b[38;5;124;43m\"\u001b[39;49m\u001b[43m)\u001b[49m)\n\u001b[1;32m    428\u001b[0m     own_fid \u001b[38;5;241m=\u001b[39m \u001b[38;5;28;01mTrue\u001b[39;00m\n\u001b[1;32m    430\u001b[0m \u001b[38;5;66;03m# Code to distinguish from NumPy binary files and pickles.\u001b[39;00m\n",
      "\u001b[0;31mFileNotFoundError\u001b[0m: [Errno 2] No such file or directory: 'volumes_benchmark/hl_8.npy'"
     ]
    }
   ],
   "source": [
    "import numpy as np\n",
    "import open3d as o3d\n",
    "from skimage import measure\n",
    "from scipy.ndimage import binary_opening, binary_closing\n",
    "import copy\n",
    "import matplotlib.pyplot as plt\n",
    "\n",
    "# volume = np.load('SIRT/ref_au_ag.npy')\n",
    "volume_ref = np.load('volumes_benchmark_0/ref_au_ag.npy')\n",
    "# volume = np.load('volumes_benchmark/1e-3.npy')\n",
    "# volume = np.load('volumes_benchmark/nn_512.npy')\n",
    "# volume_sirt = np.load('volumes_benchmark/au_ag_sirt_reconstruct_tv.npy')\n",
    "volume = np.load('volumes_benchmark_0/hl_8.npy')\n",
    "# volume = np.load(\"au_ag_180/n_hidden_layers/12/volumes/12_128.npy\")\n",
    "# volume = np.load(\"outputs/2024-07-17/11-00-59/volumes/4_128.npy\")\n",
    "# def rescale(volume):\n",
    "#     volume[volume < 0] = 0\n",
    "#     volume = (volume - volume.min()) / (volume.max() - volume.min()) * 255\n",
    "#     volume = volume.astype(np.uint8)\n",
    "#     return volume\n",
    "\n",
    "# volume_nerf = rescale(volume_nerf)\n",
    "# volume_sirt = rescale(volume_sirt)\n",
    "# plt.imshow((volume_ref[128, :, :] - volume[128, :, :])**2)\n"
   ]
  },
  {
   "cell_type": "code",
   "execution_count": 2,
   "metadata": {},
   "outputs": [
    {
     "name": "stdout",
     "output_type": "stream",
     "text": [
      "6.8120556\n"
     ]
    }
   ],
   "source": [
    "print(volume_ref.max())"
   ]
  },
  {
   "cell_type": "code",
   "execution_count": null,
   "metadata": {},
   "outputs": [],
   "source": [
    "v"
   ]
  },
  {
   "cell_type": "code",
   "execution_count": null,
   "metadata": {},
   "outputs": [],
   "source": [
    "# # volume[volume < 100] = 0\n",
    "# v = volume_sirt.flatten()\n",
    "# v2 = volume_nerf.flatten()\n",
    "\n",
    "# plt.hist(v[np.where(v>40)], bins=215)\n",
    "# plt.figure()\n",
    "# plt.hist(v2[np.where(v2>40)], bins=215)\n",
    "\n",
    "# # v[v>40].shape"
   ]
  },
  {
   "cell_type": "code",
   "execution_count": 13,
   "metadata": {},
   "outputs": [],
   "source": [
    "verts, faces, normals, values = measure.marching_cubes(volume, level=300., gradient_direction=\"ascent\")\n",
    "\n",
    "mesh = o3d.geometry.TriangleMesh()\n",
    "mesh.vertices = o3d.utility.Vector3dVector(verts)\n",
    "mesh.triangles = o3d.utility.Vector3iVector(faces)\n",
    "mesh.vertex_normals = o3d.utility.Vector3dVector(normals)\n",
    "\n",
    "mesh = mesh.filter_smooth_laplacian(number_of_iterations=1)\n",
    "\n",
    "\n",
    "# mesh.paint_uniform_color([0.1, 0.7, 0.1])\n",
    "\n",
    "mesh.compute_vertex_normals()\n",
    "mesh.compute_triangle_normals()\n",
    "# Visualize the mesh\n",
    "o3d.visualization.draw_geometries([mesh])\n",
    "\n",
    "# o3d.io.write_triangle_mesh('output_mesh.ply', mesh)\n",
    "\n",
    "# cube = o3d.geometry.TriangleMesh.create_box(width=128.0, height=128.0, depth=128.0)\n",
    "# cube.translate((0.5, 0.5, 0.5))  # Optional: Move the cube to the desired position\n",
    "# cube.paint_uniform_color([1, 0, 0])  # Optional: Color the cube red\n",
    "# o3d.visualization.draw_geometries([mesh, cube])"
   ]
  },
  {
   "cell_type": "code",
   "execution_count": null,
   "metadata": {},
   "outputs": [],
   "source": [
    "# with o3d.utility.VerbosityContextManager(\n",
    "#         o3d.utility.VerbosityLevel.Debug) as cm:\n",
    "#     triangle_clusters, cluster_n_triangles, cluster_area = (\n",
    "#         mesh.cluster_connected_triangles())\n",
    "# triangle_clusters = np.asarray(triangle_clusters)\n",
    "# cluster_n_triangles = np.asarray(cluster_n_triangles)\n",
    "# cluster_area = np.asarray(cluster_area)\n",
    "\n",
    "# mesh_0 = copy.deepcopy(mesh)\n",
    "# triangles_to_remove = cluster_n_triangles[triangle_clusters] < 100\n",
    "# mesh_0.remove_triangles_by_mask(triangles_to_remove)\n",
    "# o3d.visualization.draw_geometries([mesh_0])"
   ]
  }
 ],
 "metadata": {
  "kernelspec": {
   "display_name": "test",
   "language": "python",
   "name": "python3"
  },
  "language_info": {
   "codemirror_mode": {
    "name": "ipython",
    "version": 3
   },
   "file_extension": ".py",
   "mimetype": "text/x-python",
   "name": "python",
   "nbconvert_exporter": "python",
   "pygments_lexer": "ipython3",
   "version": "3.11.9"
  }
 },
 "nbformat": 4,
 "nbformat_minor": 2
}
