{
 "cells": [
  {
   "cell_type": "code",
   "execution_count": 22,
   "metadata": {},
   "outputs": [],
   "source": [
    "import numpy as np\n",
    "import os\n",
    "from PIL import Image\n",
    "import astra\n",
    "import cupy as cp\n",
    "from calculations import make_projection, backprojection, gradient, divergence"
   ]
  },
  {
   "cell_type": "code",
   "execution_count": 23,
   "metadata": {},
   "outputs": [],
   "source": [
    "data_path = \"../data/Au_Ag\" \n",
    "projections_path = os.path.join(data_path, \"Serie_3_ali.tif\")\n",
    "angles_path = os.path.join(data_path, \"TiltAngle_ali.txt\")\n",
    "mrc_path = os.path.join(data_path, \"Serie_3.mrc\")\n",
    "\n",
    "# projections_path = \"/home/multari/temnerf/data/shepp_projections/shepp_projections_512_120_8bit.tiff\"\n",
    "# angles_path = \"/home/multari/temnerf/data/shepp_projections/angles_120.txt\"\n",
    "\n",
    "\n",
    "number_of_projections = 241\n",
    "initial_width = 512\n",
    "initial_height = 512\n",
    "d_type = np.uint8\n",
    "\n",
    "target_size = 256\n",
    "width = 256\n",
    "height = 256\n",
    "slices = 256"
   ]
  },
  {
   "cell_type": "code",
   "execution_count": 24,
   "metadata": {},
   "outputs": [],
   "source": [
    "def read_angles_file(filepath: str):\n",
    "    with open(filepath, 'r') as file:\n",
    "        lines = file.readlines()\n",
    "    \n",
    "    return np.array([float(line.strip()) for line in lines], dtype=np.float32)"
   ]
  },
  {
   "cell_type": "code",
   "execution_count": 25,
   "metadata": {},
   "outputs": [],
   "source": [
    "def load_images(images_path: str, target_size=128):\n",
    "    with Image.open(images_path) as im:\n",
    "        tensor_shape = (im.n_frames, target_size, target_size)\n",
    "        images_tensor = np.zeros(tensor_shape, dtype=np.uint8)  # (frame, H, W)\n",
    "\n",
    "        for i in range(im.n_frames):\n",
    "            im.seek(i)\n",
    "            img = im.resize((target_size, target_size), Image.LANCZOS)\n",
    "            img = np.array(img)\n",
    "\n",
    "            if len(img.shape) == 2:\n",
    "                img = np.expand_dims(img, axis=-1)  # (H, W, C)\n",
    "\n",
    "            images_tensor[i] = img.squeeze()\n",
    "\n",
    "    return images_tensor\n"
   ]
  },
  {
   "cell_type": "code",
   "execution_count": 26,
   "metadata": {},
   "outputs": [],
   "source": [
    "# from skimage import io\n",
    "# from PIL import Image\n",
    "# import torch\n",
    "# from torchvision.transforms import v2\n",
    "# import matplotlib.pyplot as plt\n",
    "# from skimage import exposure\n",
    "\n",
    "# def load_images_walnut(images_path, target_size=128):\n",
    "#     images = [f for f in os.listdir(images_path) if f.endswith(\".tif\")][::2]\n",
    "#     images.sort()\n",
    "#     shape = (target_size, target_size)\n",
    "#     tensor_shape = (len(images), target_size, target_size)\n",
    "#     images_tensor = np.zeros(tensor_shape, dtype=np.float32)  # (frame, H, W)\n",
    "    \n",
    "#     for idx, image_name in enumerate(images):\n",
    "#         img = io.imread(os.path.join(images_path, image_name))\n",
    "#         img = np.roll(img, -5, axis=1)\n",
    "#         img = -np.log(img)\n",
    "\n",
    "#         # New version: much faster for smaller images\n",
    "#         img = v2.Resize(shape)(torch.from_numpy(img).reshape(1, 1, *img.shape)).squeeze().numpy()\n",
    "\n",
    "#         # subtract off background values\n",
    "#         background = 0.25*(img[0,0]+img[shape[0]-1,0]+img[shape[0]-1,shape[1]-1]+img[0,shape[1]-1])\n",
    "#         img -= background\n",
    "\n",
    "#         dark_floor = 0.05 # determine empirically\n",
    "#         img = exposure.rescale_intensity(img, in_range=(dark_floor, 1.8), out_range=(0.,1.))\n",
    "\n",
    "#         # Cutting the bottom of the image to make it square\n",
    "#         original_height, original_width = img.shape\n",
    "#         if original_height > target_size:\n",
    "#             img = img[:target_size, :]  # cut off the bottom to make it square\n",
    "\n",
    "#         images_tensor[idx] = torch.tensor(img)\n",
    "    \n",
    "#     return images_tensor\n",
    "\n",
    "\n",
    "# images = load_images_walnut(\"../data/walnut\")\n",
    "# angles = np.deg2rad( np.arange(0, 360.5, 0.5)[::2] )\n"
   ]
  },
  {
   "cell_type": "code",
   "execution_count": 27,
   "metadata": {},
   "outputs": [],
   "source": [
    "angles = np.deg2rad( read_angles_file(angles_path) )\n",
    "images = load_images(projections_path, target_size=target_size)"
   ]
  },
  {
   "cell_type": "code",
   "execution_count": 28,
   "metadata": {},
   "outputs": [],
   "source": [
    "def SIRT_FISTA_TV(projections,size_image,proj_geom, vol_geom, lambd, tau, alpha, nbiter, nbiter2) : \n",
    "    #SIRT algorithm\n",
    "\n",
    "\n",
    "    f=cp.zeros(size_image, dtype = 'float32') #n^3\n",
    "    inv_C = backprojection(cp.ones(projections.shape),vol_geom,proj_geom)\n",
    "    inv_R = make_projection(cp.ones(size_image),vol_geom,proj_geom) \n",
    "    C=1/inv_C #2n^3\n",
    "    R=1/inv_R\n",
    "    del inv_C\n",
    "    del inv_R\n",
    "    \n",
    "    t = 1\n",
    "    \n",
    "    for _ in range(nbiter):\n",
    "        \n",
    "        f_pre = f.copy() #3n^3\n",
    "        proj = make_projection(f,vol_geom,proj_geom)\n",
    "        bp_term = R*(projections-proj)\n",
    "        del proj\n",
    "        backp=backprojection(bp_term,vol_geom,proj_geom) #4n^3\n",
    "        f+=lambd*C*backp\n",
    "        del backp #3n^3\n",
    "        del bp_term\n",
    "\n",
    "        f[f<0]=0\n",
    "        \n",
    "        #denoising    \n",
    "        div = cp.zeros_like(f, dtype = 'float32') #4n^3\n",
    "        j = 0\n",
    "        assert len(f.shape) == 2 or len(f.shape) == 3, \"wrong dimension\"\n",
    "        if len(f.shape) == 2:\n",
    "            phi = cp.zeros((2,f.shape[0],f.shape[1]))\n",
    "        elif len(f.shape) == 3:\n",
    "            phi= cp.zeros((3,f.shape[0],f.shape[1],f.shape[2]))    #7n^3   \n",
    "        while j < nbiter2 :\n",
    "            v = div - f/alpha #8n^3\n",
    "            grad = gradient(v) #11n^3\n",
    "            del v #10n^3\n",
    "            denom = 1 + tau*cp.sqrt(cp.sum(grad**2, axis = 0)) #11n^3\n",
    "            p_update = (phi + tau*grad)/denom #12n^3\n",
    "            del denom #11n^3\n",
    "            del grad #8n^3\n",
    "            phi = p_update\n",
    "            del p_update #7n^3\n",
    "            div = divergence(phi) #up to 10n^3\n",
    "            j += 1\n",
    "        \n",
    "        del phi #4n^3\n",
    "        f =f-alpha*div   \n",
    "        del div #3n^3\n",
    "        \n",
    "        t_pre = t\n",
    "        t = (1+cp.sqrt(1+4*t**2))/2\n",
    "        f = f + (t_pre - 1)/t*(f - f_pre)\n",
    "\n",
    "    return f"
   ]
  },
  {
   "cell_type": "code",
   "execution_count": 29,
   "metadata": {},
   "outputs": [],
   "source": [
    "pathto = \"test_results\"\n",
    "\n",
    "nbiter=100 #maximum number of iterations for the main algorithm\n",
    "\n",
    "#parameter of regularization\n",
    "# alpha=0.0005\n",
    "alpha=0.000\n",
    "\n",
    "#only for EM_TV and SIRT_TV algorithms\n",
    "nbiter2=0 #number or iterations in the second loop \n",
    "\n",
    "lambd = 1\n",
    "tau = 0.006\n",
    "\n",
    "vol_size = target_size\n",
    "\n",
    "detector_size_y = images.shape[1]\n",
    "detector_size_x = images.shape[2]\n",
    "\n",
    "images = np.transpose(images, (1, 0, 2))\n",
    "\n",
    "vol_geom = astra.create_vol_geom(vol_size, vol_size, vol_size)\n",
    "\n",
    "\n",
    "proj_geom = astra.create_proj_geom('parallel3d', 1.0, 1.0, detector_size_y, detector_size_x, angles)\n",
    "# proj_geom = astra.create_proj_geom('cone', 1.0, 1.0, 128, 128, angles, 553.74, 553.74)\n",
    "imshape = (slices, height, width)\n",
    "\n",
    "im_SIRTTV = SIRT_FISTA_TV(cp.asarray(images),imshape,proj_geom, vol_geom, lambd, tau, alpha, nbiter, nbiter2)"
   ]
  },
  {
   "cell_type": "code",
   "execution_count": 30,
   "metadata": {},
   "outputs": [
    {
     "data": {
      "text/plain": [
       "(256, 256, 256)"
      ]
     },
     "execution_count": 30,
     "metadata": {},
     "output_type": "execute_result"
    }
   ],
   "source": [
    "imshape"
   ]
  },
  {
   "cell_type": "code",
   "execution_count": 31,
   "metadata": {},
   "outputs": [],
   "source": [
    "im_SIRTTV = cp.asnumpy(im_SIRTTV)\n",
    "im_SIRTTV = im_SIRTTV.astype('float32')\n"
   ]
  },
  {
   "cell_type": "code",
   "execution_count": 32,
   "metadata": {},
   "outputs": [],
   "source": [
    "import matplotlib.pyplot as plt"
   ]
  },
  {
   "cell_type": "code",
   "execution_count": 33,
   "metadata": {},
   "outputs": [
    {
     "data": {
      "text/plain": [
       "<matplotlib.image.AxesImage at 0x7feab0f35610>"
      ]
     },
     "execution_count": 33,
     "metadata": {},
     "output_type": "execute_result"
    },
    {
     "data": {
      "image/png": "[encoded data removed]",
      "text/plain": [
       "<Figure size 640x480 with 1 Axes>"
      ]
     },
     "metadata": {},
     "output_type": "display_data"
    }
   ],
   "source": [
    "plt.imshow( im_SIRTTV[128, :, :], cmap='gray')"
   ]
  },
  {
   "cell_type": "code",
   "execution_count": 34,
   "metadata": {},
   "outputs": [],
   "source": [
    "np.save(\"au_ag_sirt.npy\", im_SIRTTV)"
   ]
  }
 ],
 "metadata": {
  "kernelspec": {
   "display_name": "test",
   "language": "python",
   "name": "python3"
  },
  "language_info": {
   "codemirror_mode": {
    "name": "ipython",
    "version": 3
   },
   "file_extension": ".py",
   "mimetype": "text/x-python",
   "name": "python",
   "nbconvert_exporter": "python",
   "pygments_lexer": "ipython3",
   "version": "3.11.9"
  }
 },
 "nbformat": 4,
 "nbformat_minor": 2
}
