{
 "cells": [
  {
   "cell_type": "code",
   "execution_count": 35,
   "metadata": {},
   "outputs": [],
   "source": [
    "import numpy as np\n",
    "import os\n",
    "from PIL import Image\n",
    "import astra\n",
    "import cupy as cp\n",
    "from calculations import make_projection, backprojection, gradient, divergence"
   ]
  },
  {
   "cell_type": "code",
   "execution_count": 48,
   "metadata": {},
   "outputs": [],
   "source": [
    "data_path = \"../data/Au_Ag\" \n",
    "proj_name = \"Serie_3_ali.tif\"\n",
    "angl_name = \"TiltAngle_ali.txt\"\n",
    "target_name = \"au_ag_sirt.npy\"\n",
    "\n",
    "\n",
    "# data_path = \"../data/benchmark\"\n",
    "# proj_name = \"tube_180_8bit.tiff\"\n",
    "# angl_name = \"tube_180.txt\"\n",
    "# target_name = \"tube.npy\"\n",
    "\n",
    "# data_path = \"../data/benchmark\"\n",
    "# proj_name = \"tube_120_8bit.tiff\"\n",
    "# angl_name = \"tube_120.txt\"\n",
    "# target_name = \"tube_120.npy\"\n",
    "\n",
    "projections_path = os.path.join(data_path, proj_name)\n",
    "angles_path = os.path.join(data_path, angl_name)\n",
    "mrc_path = os.path.join(data_path, \"Serie_3.mrc\")\n",
    "\n",
    "\n",
    "\n",
    "number_of_projections = 75\n",
    "initial_width = 1024\n",
    "initial_height = 1024\n",
    "d_type = np.uint8\n",
    "\n",
    "target_size = 256\n",
    "width = 256\n",
    "height = 256\n",
    "slices = 256"
   ]
  },
  {
   "cell_type": "code",
   "execution_count": 37,
   "metadata": {},
   "outputs": [],
   "source": [
    "def read_angles_file(filepath: str):\n",
    "    with open(filepath, 'r') as file:\n",
    "        lines = file.readlines()\n",
    "    \n",
    "    return np.array([float(line.strip()) for line in lines], dtype=np.float32)"
   ]
  },
  {
   "cell_type": "code",
   "execution_count": 38,
   "metadata": {},
   "outputs": [],
   "source": [
    "def load_images(images_path: str, target_size=128):\n",
    "    with Image.open(images_path) as im:\n",
    "        tensor_shape = (im.n_frames, target_size, target_size)\n",
    "        images_tensor = np.zeros(tensor_shape, dtype=np.uint8)  # (frame, H, W)\n",
    "\n",
    "        for i in range(im.n_frames):\n",
    "            im.seek(i)\n",
    "            img = im.resize((target_size, target_size), Image.LANCZOS)\n",
    "            img = np.array(img)\n",
    "\n",
    "            if len(img.shape) == 2:\n",
    "                img = np.expand_dims(img, axis=-1)  # (H, W, C)\n",
    "\n",
    "            images_tensor[i] = img.squeeze()\n",
    "\n",
    "    return images_tensor\n"
   ]
  },
  {
   "cell_type": "code",
   "execution_count": 39,
   "metadata": {},
   "outputs": [],
   "source": [
    "angles = np.deg2rad( read_angles_file(angles_path) )\n",
    "images = load_images(projections_path, target_size=target_size)"
   ]
  },
  {
   "cell_type": "code",
   "execution_count": 40,
   "metadata": {},
   "outputs": [],
   "source": [
    "def SIRT_FISTA_TV(projections,size_image,proj_geom, vol_geom, lambd, tau, alpha, nbiter, nbiter2) : \n",
    "    #SIRT algorithm\n",
    "\n",
    "\n",
    "    f=cp.zeros(size_image, dtype = 'float32') #n^3\n",
    "    inv_C = backprojection(cp.ones(projections.shape),vol_geom,proj_geom)\n",
    "    inv_R = make_projection(cp.ones(size_image),vol_geom,proj_geom) \n",
    "    C=1/inv_C #2n^3\n",
    "    R=1/inv_R\n",
    "    del inv_C\n",
    "    del inv_R\n",
    "    \n",
    "    t = 1\n",
    "    \n",
    "    for _ in range(nbiter):\n",
    "        \n",
    "        f_pre = f.copy() #3n^3\n",
    "        proj = make_projection(f,vol_geom,proj_geom)\n",
    "        bp_term = R*(projections-proj)\n",
    "        del proj\n",
    "        backp=backprojection(bp_term,vol_geom,proj_geom) #4n^3\n",
    "        f+=lambd*C*backp\n",
    "        del backp #3n^3\n",
    "        del bp_term\n",
    "\n",
    "        f[f<0]=0\n",
    "        \n",
    "        #denoising    \n",
    "        div = cp.zeros_like(f, dtype = 'float32') #4n^3\n",
    "        j = 0\n",
    "        assert len(f.shape) == 2 or len(f.shape) == 3, \"wrong dimension\"\n",
    "        if len(f.shape) == 2:\n",
    "            phi = cp.zeros((2,f.shape[0],f.shape[1]))\n",
    "        elif len(f.shape) == 3:\n",
    "            phi= cp.zeros((3,f.shape[0],f.shape[1],f.shape[2]))    #7n^3   \n",
    "        while j < nbiter2 :\n",
    "            v = div - f/alpha #8n^3\n",
    "            grad = gradient(v) #11n^3\n",
    "            del v #10n^3\n",
    "            denom = 1 + tau*cp.sqrt(cp.sum(grad**2, axis = 0)) #11n^3\n",
    "            p_update = (phi + tau*grad)/denom #12n^3\n",
    "            del denom #11n^3\n",
    "            del grad #8n^3\n",
    "            phi = p_update\n",
    "            del p_update #7n^3\n",
    "            div = divergence(phi) #up to 10n^3\n",
    "            j += 1\n",
    "        \n",
    "        del phi #4n^3\n",
    "        f =f-alpha*div   \n",
    "        del div #3n^3\n",
    "        \n",
    "        t_pre = t\n",
    "        t = (1+cp.sqrt(1+4*t**2))/2\n",
    "        f = f + (t_pre - 1)/t*(f - f_pre)\n",
    "\n",
    "    return f"
   ]
  },
  {
   "cell_type": "code",
   "execution_count": 41,
   "metadata": {},
   "outputs": [],
   "source": [
    "pathto = \"test_results\"\n",
    "\n",
    "nbiter=100 #maximum number of iterations for the main algorithm\n",
    "\n",
    "#parameter of regularization\n",
    "# alpha=0.0005\n",
    "alpha=0.5\n",
    "\n",
    "#only for EM_TV and SIRT_TV algorithms\n",
    "nbiter2=0 #number or iterations in the second loop \n",
    "\n",
    "lambd = 1\n",
    "tau = 0.006\n",
    "\n",
    "vol_size = target_size\n",
    "\n",
    "detector_size_y = images.shape[1]\n",
    "detector_size_x = images.shape[2]\n",
    "\n",
    "images = np.transpose(images, (1, 0, 2))\n",
    "\n",
    "vol_geom = astra.create_vol_geom(vol_size, vol_size, vol_size)\n",
    "\n",
    "\n",
    "proj_geom = astra.create_proj_geom('parallel3d', 1.0, 1.0, detector_size_y, detector_size_x, angles)\n",
    "# proj_geom = astra.create_proj_geom('cone', 1.0, 1.0, 128, 128, angles, 553.74, 553.74)\n",
    "imshape = (slices, height, width)\n",
    "\n",
    "im_SIRTTV = SIRT_FISTA_TV(cp.asarray(images),imshape,proj_geom, vol_geom, lambd, tau, alpha, nbiter, nbiter2)"
   ]
  },
  {
   "cell_type": "code",
   "execution_count": 42,
   "metadata": {},
   "outputs": [
    {
     "data": {
      "text/plain": [
       "(256, 256, 256)"
      ]
     },
     "execution_count": 42,
     "metadata": {},
     "output_type": "execute_result"
    }
   ],
   "source": [
    "imshape"
   ]
  },
  {
   "cell_type": "code",
   "execution_count": 43,
   "metadata": {},
   "outputs": [],
   "source": [
    "im_SIRTTV = cp.asnumpy(im_SIRTTV)\n",
    "im_SIRTTV = im_SIRTTV.astype('float32')"
   ]
  },
  {
   "cell_type": "code",
   "execution_count": 44,
   "metadata": {},
   "outputs": [],
   "source": [
    "import matplotlib.pyplot as plt"
   ]
  },
  {
   "cell_type": "code",
   "execution_count": 45,
   "metadata": {},
   "outputs": [
    {
     "data": {
      "image/png": "[encoded data removed]",
      "text/plain": [
       "<Figure size 640x480 with 1 Axes>"
      ]
     },
     "metadata": {},
     "output_type": "display_data"
    }
   ],
   "source": [
    "plt.imshow( im_SIRTTV[128, :, :], cmap='gray')\n",
    "plt.axis(\"off\")\n",
    "plt.show()"
   ]
  },
  {
   "cell_type": "code",
   "execution_count": 49,
   "metadata": {},
   "outputs": [],
   "source": [
    "np.save(target_name, im_SIRTTV)"
   ]
  }
 ],
 "metadata": {
  "kernelspec": {
   "display_name": "test",
   "language": "python",
   "name": "python3"
  },
  "language_info": {
   "codemirror_mode": {
    "name": "ipython",
    "version": 3
   },
   "file_extension": ".py",
   "mimetype": "text/x-python",
   "name": "python",
   "nbconvert_exporter": "python",
   "pygments_lexer": "ipython3",
   "version": "3.11.9"
  }
 },
 "nbformat": 4,
 "nbformat_minor": 2
}
